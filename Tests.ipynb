{
 "cells": [
  {
   "cell_type": "code",
   "execution_count": null,
   "metadata": {},
   "outputs": [],
   "source": [
    "#pip install PyQt6"
   ]
  },
  {
   "cell_type": "code",
   "execution_count": 3,
   "metadata": {},
   "outputs": [],
   "source": [
    "import json\n",
    "import ollama\n",
    "from langchain.vectorstores import FAISS\n",
    "from langchain.embeddings import HuggingFaceEmbeddings\n",
    "from langchain.memory import ConversationBufferMemory\n",
    "from langchain.chains import ConversationalRetrievalChain\n",
    "from langchain.llms import Ollama\n",
    "import os\n",
    "\n",
    "# base_path = os.path.dirname(os.path.abspath(__file__))\n",
    "# file_path = os.path.join(base_path, \"train_data.json\")\n",
    "\n",
    "# ✅ Įkelti įmonės duomenis iš JSON\n",
    "with open('train_data.json', \"r\", encoding=\"utf-8\") as f:\n",
    "    company_data = json.load(f)\n",
    "\n",
    "# ✅ Sukurti embeddings modelį\n",
    "embeddings = HuggingFaceEmbeddings(model_name=\"sentence-transformers/paraphrase-multilingual-mpnet-base-v2\")\n",
    "\n",
    "# ✅ Paruošti FAISS duomenų bazę iš įmonės aprašymo ir paslaugų\n",
    "texts = [f\"{company_data['company']}: {company_data['description']}\"]\n",
    "contacts = [f\"Puslapis: {company_data['website']}\", f\"El. paštas: {company_data['email']}\", f\"Telefonas: {company_data['phone']}\"]\n",
    "for service in company_data[\"services\"]:\n",
    "    service_text = f\"{service['name']}: {service['description']} \" \\\n",
    "                   f\"Privalumai: {', '.join(service['benefits'])}. \" \\\n",
    "                   f\"Pavyzdys: {service['example']}\"\n",
    "    texts.append(service_text)\n",
    "\n",
    "vector_store = FAISS.from_texts(texts, embeddings)\n",
    "vector_store.save_local(\"faiss_index\")\n",
    "\n",
    "# ✅ Sukurti atmintį pokalbiui\n",
    "memory = ConversationBufferMemory(memory_key=\"chat_history\", return_messages=True)\n",
    "\n",
    "# ✅ Pasirinkti efektyvų modelį su maža CPU apkrova\n",
    "llm = Ollama(model=\"gemma2:2b-instruct-q5_1\")\n",
    "\n",
    "def chatbot(user_question):\n",
    "    \"\"\"Sugeneruoja atsakymą į klausimą, naudodamas FAISS ir pokalbio istoriją.\"\"\"\n",
    "    \n",
    "    # 🔍 Gauti panašiausius dokumentus iš FAISS\n",
    "    retriever = vector_store.as_retriever(search_type=\"similarity\", search_kwargs={\"k\": 3})\n",
    "    retrieved_docs_with_scores = vector_store.similarity_search_with_score(user_question, k=3)\n",
    "\n",
    "    # 📌 Filtruoti tik geriausius rezultatus\n",
    "    threshold = 0.7\n",
    "    filtered_docs = [doc[0].page_content for doc in retrieved_docs_with_scores if doc[1] > threshold]\n",
    "\n",
    "    # 📝 Gauti pokalbio istoriją\n",
    "    chat_history = memory.load_memory_variables({}).get(\"chat_history\", [])\n",
    "\n",
    "    # 🔹 Sudaryti promptą su kontekstu\n",
    "    prompt = (f\"Tu esi AI asistentas, kuris atsakinėja apie įmonę '{company_data['company']}'. \\n\"\n",
    "              f\"Įmonės kontaktinė informacija:\\n\"\n",
    "              f\"{' '.join(contacts)}\\n\\n\"\n",
    "              f\"Remkis tik žemiau pateikta informacija ir venk spėliojimo.\\n\\n\"\n",
    "              f\"Pokalbio istorija: {chat_history}\\n\"\n",
    "              f\"Klausimas: {user_question}\\n\"\n",
    "              f\"Kontekstas: {filtered_docs if filtered_docs else 'Nėra atitinkamos informacijos'}\\n\"\n",
    "              f\"Atsakymas:\")\n",
    "\n",
    "    # 🧠 Generuoti atsakymą\n",
    "    response = llm.invoke(prompt)\n",
    "\n",
    "    # 🔄 Išsaugoti pokalbio istoriją\n",
    "    memory.save_context({\"input\": user_question}, {\"output\": response})\n",
    "\n",
    "    return response"
   ]
  },
  {
   "cell_type": "code",
   "execution_count": 6,
   "metadata": {},
   "outputs": [
    {
     "name": "stdout",
     "output_type": "stream",
     "text": [
      "MD Baltics yra verslo IT paslaugų teikėjas, specializuojasi duomenų integruojimo, sąsajų kūrimo, verslo valdymo sistemų parengimu ir diegimu bei IT konsultingai. \n",
      "\n",
      "**Pagrindiniai MD Baltics paslaugų tipai:**\n",
      "\n",
      "* **Duomenų Integravimas ir Sąsajų Kūrimas**: Integruoja skirtingas IT sistemas, kad duomenys būtų valdomi sklandžiai, prieinami realiu laiku ir automatiškai atnaujinami be rankinio įsikišimo.\n",
      "* **Verslo Valdymo Sistemos**: Parenkame ir diegiame HR, CRM, ERP sprendimus pagal įmonės poreikius.\n",
      "* **API Integracijos**: Integruojame ERP, CRM, sandėlio valdymo, apskaitos ir kitas verslo valdymo sistemas. \n",
      "\n",
      "\n",
      "**MD Baltics privalomai:**\n",
      "\n",
      "* Pašalinamas rankinio įvedimo poreikis\n",
      "* Optimizuojamas duomenų srautas\n",
      "* Užtikrinamas didesnis tikslumas\n",
      "* Didesnis darbuotojų efektyvumas\n",
      "* Automatizuotas darbo krūvio paskirstymas\n",
      "\n",
      "\n",
      "**Pavyzdžiai:**\n",
      "\n",
      "* Automatinė sandėlio ir apskaitos sistemų integracija sumažino klaidų kiekį 80% ir išvengė 50 000 € nuostolių.\n",
      "* Centralizuota verslo valdymo sistema sumažino operacinius kaštus 18 000 € per metus ir pagerino vidinių duomenų analizės galimybes.\n",
      "* API integracija leido įmonei sutaupyti 500 darbo valandų ir sumažinti kaštus 20 000 €.\n",
      "\n",
      "\n",
      "**Klientų poreikis:**\n",
      "\n",
      "MD Baltics pristatantys: IT specialistai, sugalvotų kokį IT sprendimą turėti, pristatyti tinkamas technologijos, kurie  yra optimalūs klientams.\n",
      "\n"
     ]
    }
   ],
   "source": [
    "print(chatbot(\"Testas\"))"
   ]
  }
 ],
 "metadata": {
  "kernelspec": {
   "display_name": "Python 3",
   "language": "python",
   "name": "python3"
  },
  "language_info": {
   "codemirror_mode": {
    "name": "ipython",
    "version": 3
   },
   "file_extension": ".py",
   "mimetype": "text/x-python",
   "name": "python",
   "nbconvert_exporter": "python",
   "pygments_lexer": "ipython3",
   "version": "3.13.1"
  }
 },
 "nbformat": 4,
 "nbformat_minor": 2
}
